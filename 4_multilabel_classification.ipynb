{
 "cells": [
  {
   "cell_type": "markdown",
   "metadata": {},
   "source": [
    "# Задача\n",
    "одна из проблем, которую мы видим при обращении в саппорт - в разрезе разных категорий обращения необходимо смотреть в разные сервисы и собирать дополнительную информацию. На это уходит много времени. на одно обращение уходит в среднем 2 минуты поиска дополнительной информации. Стоимость часа работы сотрудника 6$.\n",
    "\n",
    "Давайте поможем и оптимизируем время и деньги компании - сделаем модель,которая в зависимости от текста будет определять категорию обращения автоматически.\n",
    "\n",
    "Тогда мы сможем сразу подготавливать информацию для наших операторов в течение 5 секунд (сбор и передача на фронт)\n",
    "\n",
    "Нужно сделать модель многоклассовой классификации определения категории обращения"
   ]
  },
  {
   "cell_type": "markdown",
   "metadata": {},
   "source": [
    "# загружаем данные"
   ]
  },
  {
   "cell_type": "code",
   "execution_count": 118,
   "metadata": {},
   "outputs": [],
   "source": [
    "\n",
    "from sklearn.feature_extraction.text import TfidfVectorizer\n",
    "from sklearn.metrics import accuracy_score\n",
    "from sklearn.metrics import classification_report\n",
    "\n",
    "import datetime\n",
    "import requests\n",
    "import collections as co\n",
    "import string\n",
    "import re\n",
    "\n",
    "import nltk\n",
    "from sumy.utils import get_stop_words as gsw1\n",
    "from stop_words import get_stop_words as gsw2\n",
    "\n",
    "\n",
    "import pandas as pd\n",
    "import numpy as np"
   ]
  },
  {
   "cell_type": "code",
   "execution_count": 2,
   "metadata": {},
   "outputs": [],
   "source": [
    "\n",
    "from io import StringIO\n",
    "\n",
    "import matplotlib.pyplot as plt\n",
    "import seaborn as sns\n",
    "\n",
    "%matplotlib inline"
   ]
  },
  {
   "cell_type": "code",
   "execution_count": 3,
   "metadata": {},
   "outputs": [
    {
     "data": {
      "text/plain": [
       "(50000, 3)"
      ]
     },
     "execution_count": 3,
     "metadata": {},
     "output_type": "execute_result"
    }
   ],
   "source": [
    "df = pd.read_csv('./data/3categories_50.csv')\n",
    "df.shape"
   ]
  },
  {
   "cell_type": "code",
   "execution_count": 4,
   "metadata": {},
   "outputs": [
    {
     "data": {
      "text/html": [
       "<div>\n",
       "<style scoped>\n",
       "    .dataframe tbody tr th:only-of-type {\n",
       "        vertical-align: middle;\n",
       "    }\n",
       "\n",
       "    .dataframe tbody tr th {\n",
       "        vertical-align: top;\n",
       "    }\n",
       "\n",
       "    .dataframe thead th {\n",
       "        text-align: right;\n",
       "    }\n",
       "</style>\n",
       "<table border=\"1\" class=\"dataframe\">\n",
       "  <thead>\n",
       "    <tr style=\"text-align: right;\">\n",
       "      <th></th>\n",
       "      <th>channel</th>\n",
       "      <th>category</th>\n",
       "      <th>message</th>\n",
       "    </tr>\n",
       "  </thead>\n",
       "  <tbody>\n",
       "    <tr>\n",
       "      <th>0</th>\n",
       "      <td>chat</td>\n",
       "      <td>afs</td>\n",
       "      <td>\\nChat transcript:\\nVisitor: I am attempting t...</td>\n",
       "    </tr>\n",
       "    <tr>\n",
       "      <th>1</th>\n",
       "      <td>chat</td>\n",
       "      <td>other</td>\n",
       "      <td>\\nChat transcript:\\nVisitor: Hi. For some reas...</td>\n",
       "    </tr>\n",
       "  </tbody>\n",
       "</table>\n",
       "</div>"
      ],
      "text/plain": [
       "  channel category                                            message\n",
       "0    chat      afs  \\nChat transcript:\\nVisitor: I am attempting t...\n",
       "1    chat    other  \\nChat transcript:\\nVisitor: Hi. For some reas..."
      ]
     },
     "execution_count": 4,
     "metadata": {},
     "output_type": "execute_result"
    }
   ],
   "source": [
    "df.head(2)"
   ]
  },
  {
   "cell_type": "code",
   "execution_count": 5,
   "metadata": {},
   "outputs": [
    {
     "data": {
      "text/plain": [
       "<matplotlib.axes._subplots.AxesSubplot at 0x19e8a298630>"
      ]
     },
     "execution_count": 5,
     "metadata": {},
     "output_type": "execute_result"
    },
    {
     "data": {
      "image/png": "[encoded data removed]",
      "text/plain": [
       "<Figure size 432x288 with 1 Axes>"
      ]
     },
     "metadata": {
      "needs_background": "light"
     },
     "output_type": "display_data"
    }
   ],
   "source": [
    "df['category'].hist()"
   ]
  },
  {
   "cell_type": "markdown",
   "metadata": {},
   "source": [
    "# прежде всего очистка данных"
   ]
  },
  {
   "cell_type": "code",
   "execution_count": 6,
   "metadata": {},
   "outputs": [],
   "source": [
    "#убираем технические данные в сообщениях и прочий шум\n",
    "df['message'] = df['message'].str.replace('\\[.*\\]', '', regex=True)\n",
    "\n",
    "df['message'] = df['message'].str.replace(\"\\!\", '', regex=True)\n",
    "df['message'] = df['message'].str.replace(\"\\'\", '', regex=True)\n",
    "\n",
    "df['message'] = df['message'].str.replace(\"[^A-Za-z0-9^,!.\\/'+-=]\", ' ', regex=True)\n"
   ]
  },
  {
   "cell_type": "code",
   "execution_count": 7,
   "metadata": {},
   "outputs": [],
   "source": [
    "#переведем в нижний регистр\n",
    "df['message'] = df['message'].str.replace(\"\\s+\", ' ', regex=True)\n",
    "df['message'] = df['message'].str.lower()"
   ]
  },
  {
   "cell_type": "code",
   "execution_count": 8,
   "metadata": {},
   "outputs": [
    {
     "data": {
      "text/plain": [
       "(49999, 3)"
      ]
     },
     "execution_count": 8,
     "metadata": {},
     "output_type": "execute_result"
    }
   ],
   "source": [
    "#уберем шум\n",
    "df.dropna(inplace = True)\n",
    "df.shape"
   ]
  },
  {
   "cell_type": "code",
   "execution_count": 9,
   "metadata": {},
   "outputs": [
    {
     "data": {
      "text/plain": [
       "(49499, 4)"
      ]
     },
     "execution_count": 9,
     "metadata": {},
     "output_type": "execute_result"
    }
   ],
   "source": [
    "# уберем шумовые длинные сообщения\n",
    "df['message_len'] = df['message'].str.len()\n",
    "\n",
    "df = df[(df['message_len'] < np.percentile(df.message_len,99))][:]\n",
    "\n",
    "df.shape"
   ]
  },
  {
   "cell_type": "markdown",
   "metadata": {},
   "source": [
    "# очистим весь наш текст от шумовых слов и преобразуем к первообразным формам\n"
   ]
  },
  {
   "cell_type": "code",
   "execution_count": 10,
   "metadata": {},
   "outputs": [],
   "source": [
    "#давайте попробуем очистить от шума наши сообщения и создадим новый текст очищенный от мусора"
   ]
  },
  {
   "cell_type": "code",
   "execution_count": 11,
   "metadata": {},
   "outputs": [
    {
     "data": {
      "text/html": [
       "<div>\n",
       "<style scoped>\n",
       "    .dataframe tbody tr th:only-of-type {\n",
       "        vertical-align: middle;\n",
       "    }\n",
       "\n",
       "    .dataframe tbody tr th {\n",
       "        vertical-align: top;\n",
       "    }\n",
       "\n",
       "    .dataframe thead th {\n",
       "        text-align: right;\n",
       "    }\n",
       "</style>\n",
       "<table border=\"1\" class=\"dataframe\">\n",
       "  <thead>\n",
       "    <tr style=\"text-align: right;\">\n",
       "      <th></th>\n",
       "      <th>review</th>\n",
       "    </tr>\n",
       "  </thead>\n",
       "  <tbody>\n",
       "    <tr>\n",
       "      <th>0</th>\n",
       "      <td>chat transcript: visitor: i am attempting to ...</td>\n",
       "    </tr>\n",
       "    <tr>\n",
       "      <th>1</th>\n",
       "      <td>chat transcript: visitor: hi. for some reason...</td>\n",
       "    </tr>\n",
       "  </tbody>\n",
       "</table>\n",
       "</div>"
      ],
      "text/plain": [
       "                                              review\n",
       "0   chat transcript: visitor: i am attempting to ...\n",
       "1   chat transcript: visitor: hi. for some reason..."
      ]
     },
     "execution_count": 11,
     "metadata": {},
     "output_type": "execute_result"
    }
   ],
   "source": [
    "df_reviews = df[['message']][:]\n",
    "df_reviews.columns = ['review']\n",
    "df_reviews.reset_index(drop = True , inplace = True)\n",
    "df_reviews.head(2)"
   ]
  },
  {
   "cell_type": "code",
   "execution_count": 12,
   "metadata": {},
   "outputs": [],
   "source": [
    "list_count_words = []\n",
    "list_true_words = []\n",
    "list_tagged = []\n",
    "list_tags = []\n",
    "\n",
    "for i ,row in  df_reviews.iterrows():\n",
    "    words = []\n",
    "    tagged = []\n",
    "    true_words = []\n",
    "    tags = []\n",
    "    \n",
    "    a_line = row['review']\n",
    "\n",
    "    \n",
    "    try:\n",
    "        words = re.split(' ', a_line)\n",
    "        true_words = []\n",
    "\n",
    "        for word in words:\n",
    "            m = re.search('(\\w+)',word)\n",
    "            if m is not None:\n",
    "                good_word = m.group(0)\n",
    "                true_words.append(good_word)\n",
    "\n",
    "        tagged = nltk.pos_tag(true_words)\n",
    "        tags = []\n",
    "        for tag in tagged:\n",
    "            tags.append(tag[1])\n",
    "    except:\n",
    "        pass\n",
    "\n",
    "\n",
    "\n",
    "    list_count_words.append(len(words))   \n",
    "    list_tagged.append(tagged)\n",
    "    list_true_words.append(true_words)\n",
    "    list_tags.append(tags)\n"
   ]
  },
  {
   "cell_type": "code",
   "execution_count": 13,
   "metadata": {},
   "outputs": [],
   "source": [
    "df_reviews['count_words'] = list_count_words\n",
    "df_reviews['list_of_words'] = list_true_words\n",
    "\n",
    "df_reviews['list_of_tags'] = list_tags\n",
    "df_reviews['word_with_tag_list'] = list_tagged\n"
   ]
  },
  {
   "cell_type": "code",
   "execution_count": 14,
   "metadata": {},
   "outputs": [
    {
     "data": {
      "text/html": [
       "<div>\n",
       "<style scoped>\n",
       "    .dataframe tbody tr th:only-of-type {\n",
       "        vertical-align: middle;\n",
       "    }\n",
       "\n",
       "    .dataframe tbody tr th {\n",
       "        vertical-align: top;\n",
       "    }\n",
       "\n",
       "    .dataframe thead th {\n",
       "        text-align: right;\n",
       "    }\n",
       "</style>\n",
       "<table border=\"1\" class=\"dataframe\">\n",
       "  <thead>\n",
       "    <tr style=\"text-align: right;\">\n",
       "      <th></th>\n",
       "      <th>sentence</th>\n",
       "      <th>count_words</th>\n",
       "      <th>list_of_words</th>\n",
       "      <th>list_of_tags</th>\n",
       "      <th>word_with_tag_list</th>\n",
       "    </tr>\n",
       "  </thead>\n",
       "  <tbody>\n",
       "    <tr>\n",
       "      <th>0</th>\n",
       "      <td>chat transcript: visitor: i am attempting to ...</td>\n",
       "      <td>58</td>\n",
       "      <td>[chat, transcript, visitor, i, am, attempting,...</td>\n",
       "      <td>[RB, JJ, NN, NN, VBP, VBG, TO, VB, PRP$, NN, R...</td>\n",
       "      <td>[(chat, RB), (transcript, JJ), (visitor, NN), ...</td>\n",
       "    </tr>\n",
       "    <tr>\n",
       "      <th>1</th>\n",
       "      <td>chat transcript: visitor: hi. for some reason...</td>\n",
       "      <td>113</td>\n",
       "      <td>[chat, transcript, visitor, hi, for, some, rea...</td>\n",
       "      <td>[RB, JJ, NN, NN, IN, DT, NN, PRP, VBZ, IN, PRP...</td>\n",
       "      <td>[(chat, RB), (transcript, JJ), (visitor, NN), ...</td>\n",
       "    </tr>\n",
       "    <tr>\n",
       "      <th>2</th>\n",
       "      <td>chat transcript: visitor: , faceit, andrew: ....</td>\n",
       "      <td>50</td>\n",
       "      <td>[chat, transcript, visitor, faceit, andrew, vi...</td>\n",
       "      <td>[RB, JJ, NN, NN, VBD, NN, NN, NN, VBD, TO, VB,...</td>\n",
       "      <td>[(chat, RB), (transcript, JJ), (visitor, NN), ...</td>\n",
       "    </tr>\n",
       "    <tr>\n",
       "      <th>3</th>\n",
       "      <td>chat transcript: visitor: no puedo hacer la r...</td>\n",
       "      <td>157</td>\n",
       "      <td>[chat, transcript, visitor, no, puedo, hacer, ...</td>\n",
       "      <td>[RB, JJ, NN, DT, NN, NN, FW, FW, FW, NN, VBD, ...</td>\n",
       "      <td>[(chat, RB), (transcript, JJ), (visitor, NN), ...</td>\n",
       "    </tr>\n",
       "    <tr>\n",
       "      <th>4</th>\n",
       "      <td>chat transcript: visitor: hi im trying to buy...</td>\n",
       "      <td>110</td>\n",
       "      <td>[chat, transcript, visitor, hi, im, trying, to...</td>\n",
       "      <td>[RB, JJ, NN, NN, NN, VBG, TO, VB, NNS, CC, PRP...</td>\n",
       "      <td>[(chat, RB), (transcript, JJ), (visitor, NN), ...</td>\n",
       "    </tr>\n",
       "  </tbody>\n",
       "</table>\n",
       "</div>"
      ],
      "text/plain": [
       "                                            sentence  count_words  \\\n",
       "0   chat transcript: visitor: i am attempting to ...           58   \n",
       "1   chat transcript: visitor: hi. for some reason...          113   \n",
       "2   chat transcript: visitor: , faceit, andrew: ....           50   \n",
       "3   chat transcript: visitor: no puedo hacer la r...          157   \n",
       "4   chat transcript: visitor: hi im trying to buy...          110   \n",
       "\n",
       "                                       list_of_words  \\\n",
       "0  [chat, transcript, visitor, i, am, attempting,...   \n",
       "1  [chat, transcript, visitor, hi, for, some, rea...   \n",
       "2  [chat, transcript, visitor, faceit, andrew, vi...   \n",
       "3  [chat, transcript, visitor, no, puedo, hacer, ...   \n",
       "4  [chat, transcript, visitor, hi, im, trying, to...   \n",
       "\n",
       "                                        list_of_tags  \\\n",
       "0  [RB, JJ, NN, NN, VBP, VBG, TO, VB, PRP$, NN, R...   \n",
       "1  [RB, JJ, NN, NN, IN, DT, NN, PRP, VBZ, IN, PRP...   \n",
       "2  [RB, JJ, NN, NN, VBD, NN, NN, NN, VBD, TO, VB,...   \n",
       "3  [RB, JJ, NN, DT, NN, NN, FW, FW, FW, NN, VBD, ...   \n",
       "4  [RB, JJ, NN, NN, NN, VBG, TO, VB, NNS, CC, PRP...   \n",
       "\n",
       "                                  word_with_tag_list  \n",
       "0  [(chat, RB), (transcript, JJ), (visitor, NN), ...  \n",
       "1  [(chat, RB), (transcript, JJ), (visitor, NN), ...  \n",
       "2  [(chat, RB), (transcript, JJ), (visitor, NN), ...  \n",
       "3  [(chat, RB), (transcript, JJ), (visitor, NN), ...  \n",
       "4  [(chat, RB), (transcript, JJ), (visitor, NN), ...  "
      ]
     },
     "execution_count": 14,
     "metadata": {},
     "output_type": "execute_result"
    }
   ],
   "source": [
    "text_analizator_df = df_reviews[:]\n",
    "text_analizator_df.rename(columns = {'review' : 'sentence'} , inplace = True)\n",
    "text_analizator_df.head()"
   ]
  },
  {
   "cell_type": "code",
   "execution_count": 15,
   "metadata": {},
   "outputs": [],
   "source": [
    "#получили новое смысловое описание атрибутов текста, видно много местоимений и другой информации, давайте очистим"
   ]
  },
  {
   "cell_type": "code",
   "execution_count": 16,
   "metadata": {},
   "outputs": [],
   "source": [
    "stopWords =nltk.corpus.stopwords.words()\n",
    "\n",
    "LANGUAGE = 'english'\n",
    "\n",
    "sw0 = [\"yeah\",\"zola\",\"don\"]\n",
    "sw1 = gsw1(LANGUAGE)\n",
    "sw2 = gsw2('en')\n",
    "\n",
    "sw0.extend(list(sw1))\n",
    "sw0.extend(list(sw2))\n",
    "\n",
    "\n",
    "\n",
    "new_s_list = []\n",
    "new_lw_list = []\n",
    "new_lt_list = []\n",
    "new_lwt_list = []\n",
    "new_count_words = []\n",
    "\n",
    "for s , lw , lt ,lwt in zip (text_analizator_df['sentence'] \n",
    "                        , text_analizator_df['list_of_words'] \n",
    "                        , text_analizator_df['list_of_tags']\n",
    "                        , text_analizator_df['word_with_tag_list']):\n",
    "    new_s = ''\n",
    "    new_lw = []\n",
    "    new_lt = []\n",
    "    new_lwt = []\n",
    "    for w,t,lw in zip(lw,lt,lwt):\n",
    "        if t in ['NN','VB','DT','NNS','VBP','VB']:\n",
    "            new_s += w + ' '\n",
    "            new_lw.append(w)\n",
    "            new_lt.append(t)\n",
    "            new_lwt.append(lw)\n",
    "        elif w in sw0 or re.match('\\d+',w) is not None:\n",
    "            continue\n",
    "\n",
    "    \n",
    "    new_s_list.append(new_s)\n",
    "    new_lw_list.append(new_lw)\n",
    "    new_lt_list.append(new_lt)\n",
    "    new_lwt_list.append(new_lwt)\n",
    "    new_count_words.append(len(new_lw))\n",
    "        \n",
    "text_analizator_df['new_sentence'] = new_s_list\n",
    "text_analizator_df['list_of_words'] = new_lw_list\n",
    "text_analizator_df['list_of_tags'] = new_lt_list\n",
    "text_analizator_df['word_with_tag_list'] = new_lwt_list\n",
    "text_analizator_df['count_words'] = new_count_words\n"
   ]
  },
  {
   "cell_type": "code",
   "execution_count": 17,
   "metadata": {},
   "outputs": [
    {
     "name": "stdout",
     "output_type": "stream",
     "text": [
      "old-  chat transcript: visitor: i am attempting to verify my card however the payment is not posting. all charges typically post immediately with my bank. sofia: hello sofia: please stand by online, as it may take some time to resolve the issue. ill provide you with an update in a few minutes. thank you for your patience. \n",
      "\n",
      "\n",
      "new -visitor i am verify card the payment all charges post bank sofia hello sofia please stand online take some time resolve the issue ill an update a minutes thank patience \n"
     ]
    }
   ],
   "source": [
    "# в итоге выделив основные главне слова, которые нам могут быть интересны потенциально\n",
    "# получили new_sentence, можнте посмотреть как он отличается\n",
    "print(f'old- {text_analizator_df.loc[0][\"sentence\"]}' )\n",
    "print('\\n')\n",
    "print(f'new -{text_analizator_df.loc[0][\"new_sentence\"]}' )"
   ]
  },
  {
   "cell_type": "code",
   "execution_count": 18,
   "metadata": {},
   "outputs": [
    {
     "data": {
      "text/html": [
       "<div>\n",
       "<style scoped>\n",
       "    .dataframe tbody tr th:only-of-type {\n",
       "        vertical-align: middle;\n",
       "    }\n",
       "\n",
       "    .dataframe tbody tr th {\n",
       "        vertical-align: top;\n",
       "    }\n",
       "\n",
       "    .dataframe thead th {\n",
       "        text-align: right;\n",
       "    }\n",
       "</style>\n",
       "<table border=\"1\" class=\"dataframe\">\n",
       "  <thead>\n",
       "    <tr style=\"text-align: right;\">\n",
       "      <th></th>\n",
       "      <th>sentence</th>\n",
       "      <th>count_words</th>\n",
       "      <th>list_of_words</th>\n",
       "      <th>list_of_tags</th>\n",
       "      <th>word_with_tag_list</th>\n",
       "      <th>new_sentence</th>\n",
       "    </tr>\n",
       "  </thead>\n",
       "  <tbody>\n",
       "    <tr>\n",
       "      <th>0</th>\n",
       "      <td>chat transcript: visitor: i am attempting to ...</td>\n",
       "      <td>30</td>\n",
       "      <td>[visitor, i, am, verify, card, the, payment, a...</td>\n",
       "      <td>[NN, NN, VBP, VB, NN, DT, NN, DT, NNS, VBP, NN...</td>\n",
       "      <td>[(visitor, NN), (i, NN), (am, VBP), (verify, V...</td>\n",
       "      <td>visitor i am verify card the payment all charg...</td>\n",
       "    </tr>\n",
       "    <tr>\n",
       "      <th>1</th>\n",
       "      <td>chat transcript: visitor: hi. for some reason...</td>\n",
       "      <td>64</td>\n",
       "      <td>[visitor, hi, some, reason, sub, prepcoin, nl,...</td>\n",
       "      <td>[NN, NN, DT, NN, NN, NN, NN, NN, VBP, NN, NN, ...</td>\n",
       "      <td>[(visitor, NN), (hi, NN), (some, DT), (reason,...</td>\n",
       "      <td>visitor hi some reason sub prepcoin nl didnt g...</td>\n",
       "    </tr>\n",
       "    <tr>\n",
       "      <th>2</th>\n",
       "      <td>chat transcript: visitor: , faceit, andrew: ....</td>\n",
       "      <td>17</td>\n",
       "      <td>[visitor, faceit, visitor, hello, i, pay, a, s...</td>\n",
       "      <td>[NN, NN, NN, NN, NN, VB, DT, NN, DT, NN, NN, D...</td>\n",
       "      <td>[(visitor, NN), (faceit, NN), (visitor, NN), (...</td>\n",
       "      <td>visitor faceit visitor hello i pay a subscript...</td>\n",
       "    </tr>\n",
       "    <tr>\n",
       "      <th>3</th>\n",
       "      <td>chat transcript: visitor: no puedo hacer la r...</td>\n",
       "      <td>80</td>\n",
       "      <td>[visitor, no, puedo, hacer, cash, infelizmente...</td>\n",
       "      <td>[NN, DT, NN, NN, NN, NN, NN, DT, NN, NN, NN, N...</td>\n",
       "      <td>[(visitor, NN), (no, DT), (puedo, NN), (hacer,...</td>\n",
       "      <td>visitor no puedo hacer cash infelizmente yo no...</td>\n",
       "    </tr>\n",
       "    <tr>\n",
       "      <th>4</th>\n",
       "      <td>chat transcript: visitor: hi im trying to buy...</td>\n",
       "      <td>48</td>\n",
       "      <td>[visitor, hi, im, buy, bits, payment, be, hell...</td>\n",
       "      <td>[NN, NN, NN, VB, NNS, NN, VB, NN, NN, VB, DT, ...</td>\n",
       "      <td>[(visitor, NN), (hi, NN), (im, NN), (buy, VB),...</td>\n",
       "      <td>visitor hi im buy bits payment be hello im add...</td>\n",
       "    </tr>\n",
       "  </tbody>\n",
       "</table>\n",
       "</div>"
      ],
      "text/plain": [
       "                                            sentence  count_words  \\\n",
       "0   chat transcript: visitor: i am attempting to ...           30   \n",
       "1   chat transcript: visitor: hi. for some reason...           64   \n",
       "2   chat transcript: visitor: , faceit, andrew: ....           17   \n",
       "3   chat transcript: visitor: no puedo hacer la r...           80   \n",
       "4   chat transcript: visitor: hi im trying to buy...           48   \n",
       "\n",
       "                                       list_of_words  \\\n",
       "0  [visitor, i, am, verify, card, the, payment, a...   \n",
       "1  [visitor, hi, some, reason, sub, prepcoin, nl,...   \n",
       "2  [visitor, faceit, visitor, hello, i, pay, a, s...   \n",
       "3  [visitor, no, puedo, hacer, cash, infelizmente...   \n",
       "4  [visitor, hi, im, buy, bits, payment, be, hell...   \n",
       "\n",
       "                                        list_of_tags  \\\n",
       "0  [NN, NN, VBP, VB, NN, DT, NN, DT, NNS, VBP, NN...   \n",
       "1  [NN, NN, DT, NN, NN, NN, NN, NN, VBP, NN, NN, ...   \n",
       "2  [NN, NN, NN, NN, NN, VB, DT, NN, DT, NN, NN, D...   \n",
       "3  [NN, DT, NN, NN, NN, NN, NN, DT, NN, NN, NN, N...   \n",
       "4  [NN, NN, NN, VB, NNS, NN, VB, NN, NN, VB, DT, ...   \n",
       "\n",
       "                                  word_with_tag_list  \\\n",
       "0  [(visitor, NN), (i, NN), (am, VBP), (verify, V...   \n",
       "1  [(visitor, NN), (hi, NN), (some, DT), (reason,...   \n",
       "2  [(visitor, NN), (faceit, NN), (visitor, NN), (...   \n",
       "3  [(visitor, NN), (no, DT), (puedo, NN), (hacer,...   \n",
       "4  [(visitor, NN), (hi, NN), (im, NN), (buy, VB),...   \n",
       "\n",
       "                                        new_sentence  \n",
       "0  visitor i am verify card the payment all charg...  \n",
       "1  visitor hi some reason sub prepcoin nl didnt g...  \n",
       "2  visitor faceit visitor hello i pay a subscript...  \n",
       "3  visitor no puedo hacer cash infelizmente yo no...  \n",
       "4  visitor hi im buy bits payment be hello im add...  "
      ]
     },
     "execution_count": 18,
     "metadata": {},
     "output_type": "execute_result"
    }
   ],
   "source": [
    "text_analizator_df.head()"
   ]
  },
  {
   "cell_type": "markdown",
   "metadata": {},
   "source": [
    "# генерация вектора\n",
    "Давайте попробуем оставить только важные слова"
   ]
  },
  {
   "cell_type": "code",
   "execution_count": 19,
   "metadata": {},
   "outputs": [],
   "source": [
    "text_analizator_df['text_arr'] = text_analizator_df.new_sentence.str.split('\\W+').tolist()"
   ]
  },
  {
   "cell_type": "code",
   "execution_count": 20,
   "metadata": {},
   "outputs": [],
   "source": [
    "#сделаем массив из всех слов, разделенных пробелами, которые могут встречаться\n",
    "text_arrays = text_analizator_df['text_arr'].tolist()\n",
    "text_arrays = np.concatenate( text_arrays, axis=0 )\n"
   ]
  },
  {
   "cell_type": "code",
   "execution_count": 21,
   "metadata": {},
   "outputs": [],
   "source": [
    "#уберем все пустые строки\n",
    "text_arrays = list( text_arrays)\n",
    "text_arrays = list(filter(None, text_arrays))"
   ]
  },
  {
   "cell_type": "code",
   "execution_count": 22,
   "metadata": {},
   "outputs": [
    {
     "data": {
      "text/plain": [
       "Text(0.5, 1.0, 'Top Words')"
      ]
     },
     "execution_count": 22,
     "metadata": {},
     "output_type": "execute_result"
    },
    {
     "data": {
      "image/png": "[encoded data removed]",
      "text/plain": [
       "<Figure size 1152x576 with 1 Axes>"
      ]
     },
     "metadata": {
      "needs_background": "light"
     },
     "output_type": "display_data"
    }
   ],
   "source": [
    "#проанализируем популярные слова\n",
    "from sklearn.feature_extraction.text import CountVectorizer\n",
    "\n",
    "c_text = co.Counter(text_arrays)\n",
    "\n",
    "w =[]\n",
    "count_w = []\n",
    "\n",
    "\n",
    "most_freq_words = []\n",
    "\n",
    "for i in c_text.most_common(20):\n",
    "    w.append(i[0])\n",
    "    count_w.append(i[1])\n",
    "\n",
    "fig, ax = plt.subplots(figsize=(16,8))\n",
    "ax.bar(range(len(w)), count_w)\n",
    "ax.set_xticks(range(len(w)))\n",
    "ax.set_xticklabels(w)\n",
    "ax.set_title('Top Words')"
   ]
  },
  {
   "cell_type": "code",
   "execution_count": 23,
   "metadata": {},
   "outputs": [
    {
     "data": {
      "text/html": [
       "<div>\n",
       "<style scoped>\n",
       "    .dataframe tbody tr th:only-of-type {\n",
       "        vertical-align: middle;\n",
       "    }\n",
       "\n",
       "    .dataframe tbody tr th {\n",
       "        vertical-align: top;\n",
       "    }\n",
       "\n",
       "    .dataframe thead th {\n",
       "        text-align: right;\n",
       "    }\n",
       "</style>\n",
       "<table border=\"1\" class=\"dataframe\">\n",
       "  <thead>\n",
       "    <tr style=\"text-align: right;\">\n",
       "      <th></th>\n",
       "      <th>0</th>\n",
       "    </tr>\n",
       "  </thead>\n",
       "  <tbody>\n",
       "    <tr>\n",
       "      <th>bayaga</th>\n",
       "      <td>1</td>\n",
       "    </tr>\n",
       "    <tr>\n",
       "      <th>lete</th>\n",
       "      <td>1</td>\n",
       "    </tr>\n",
       "    <tr>\n",
       "      <th>a1908111649410105</th>\n",
       "      <td>1</td>\n",
       "    </tr>\n",
       "    <tr>\n",
       "      <th>whar</th>\n",
       "      <td>1</td>\n",
       "    </tr>\n",
       "    <tr>\n",
       "      <th>photot</th>\n",
       "      <td>1</td>\n",
       "    </tr>\n",
       "    <tr>\n",
       "      <th>messengers</th>\n",
       "      <td>1</td>\n",
       "    </tr>\n",
       "    <tr>\n",
       "      <th>a1902101042404851</th>\n",
       "      <td>1</td>\n",
       "    </tr>\n",
       "    <tr>\n",
       "      <th>hellou</th>\n",
       "      <td>1</td>\n",
       "    </tr>\n",
       "    <tr>\n",
       "      <th>hdzuax958w7b</th>\n",
       "      <td>1</td>\n",
       "    </tr>\n",
       "    <tr>\n",
       "      <th>ajaxx</th>\n",
       "      <td>1</td>\n",
       "    </tr>\n",
       "    <tr>\n",
       "      <th>erudito</th>\n",
       "      <td>1</td>\n",
       "    </tr>\n",
       "    <tr>\n",
       "      <th>enkoin</th>\n",
       "      <td>1</td>\n",
       "    </tr>\n",
       "    <tr>\n",
       "      <th>crdedit</th>\n",
       "      <td>1</td>\n",
       "    </tr>\n",
       "    <tr>\n",
       "      <th>mento</th>\n",
       "      <td>1</td>\n",
       "    </tr>\n",
       "    <tr>\n",
       "      <th>rcoins</th>\n",
       "      <td>1</td>\n",
       "    </tr>\n",
       "  </tbody>\n",
       "</table>\n",
       "</div>"
      ],
      "text/plain": [
       "                   0\n",
       "bayaga             1\n",
       "lete               1\n",
       "a1908111649410105  1\n",
       "whar               1\n",
       "photot             1\n",
       "messengers         1\n",
       "a1902101042404851  1\n",
       "hellou             1\n",
       "hdzuax958w7b       1\n",
       "ajaxx              1\n",
       "erudito            1\n",
       "enkoin             1\n",
       "crdedit            1\n",
       "mento              1\n",
       "rcoins             1"
      ]
     },
     "execution_count": 23,
     "metadata": {},
     "output_type": "execute_result"
    }
   ],
   "source": [
    "#посмотрим непопулярные слова мало ли там беда\n",
    "pd.DataFrame.from_dict(dict(c_text) , orient = 'index').sort_values(by = 0).head(15)\n",
    "\n",
    "#видно в непопулярных словах какой то треш, они явно бесполезны при создании нашей модели, идем верно"
   ]
  },
  {
   "cell_type": "markdown",
   "metadata": {},
   "source": [
    "# стемминг\n",
    "важной частью задач nlp является преобразование к первоначальной форме, т.к. мы сужаем область поиска для слов"
   ]
  },
  {
   "cell_type": "code",
   "execution_count": 24,
   "metadata": {},
   "outputs": [],
   "source": [
    "text_analizator_df['text_arr'] = text_analizator_df.new_sentence.str.split('\\W+').tolist()"
   ]
  },
  {
   "cell_type": "code",
   "execution_count": 25,
   "metadata": {},
   "outputs": [],
   "source": [
    "from nltk.stem.porter import *\n",
    "stemming = PorterStemmer()\n",
    "\n",
    "def stem_list(row):\n",
    "    my_list = row['text_arr']\n",
    "    stemmed_list = [stemming.stem(word) for word in my_list]\n",
    "    return (stemmed_list)\n",
    "\n",
    "text_analizator_df['stem_arr'] = text_analizator_df.apply(stem_list, axis=1)\n"
   ]
  },
  {
   "cell_type": "code",
   "execution_count": 26,
   "metadata": {},
   "outputs": [],
   "source": [
    "text_arrays = text_analizator_df['stem_arr'].tolist()\n",
    "text_arrays = np.concatenate( text_arrays, axis=0 )\n"
   ]
  },
  {
   "cell_type": "code",
   "execution_count": 27,
   "metadata": {},
   "outputs": [
    {
     "data": {
      "text/plain": [
       "Text(0.5, 1.0, 'Top Words')"
      ]
     },
     "execution_count": 27,
     "metadata": {},
     "output_type": "execute_result"
    },
    {
     "data": {
      "image/png": "[encoded data removed]",
      "text/plain": [
       "<Figure size 1152x576 with 1 Axes>"
      ]
     },
     "metadata": {
      "needs_background": "light"
     },
     "output_type": "display_data"
    }
   ],
   "source": [
    "#отлично видим что наши частовстречающиеся слова однородны\n",
    "c_text = co.Counter(text_arrays)\n",
    "\n",
    "w =[]\n",
    "count_w = []\n",
    "\n",
    "\n",
    "most_freq_words = []\n",
    "\n",
    "for i in c_text.most_common(15):\n",
    "    w.append(i[0])\n",
    "    count_w.append(i[1])\n",
    "\n",
    "fig, ax = plt.subplots(figsize=(16,8))\n",
    "ax.bar(range(len(w)), count_w)\n",
    "ax.set_xticks(range(len(w)))\n",
    "ax.set_xticklabels(w)\n",
    "ax.set_title('Top Words')"
   ]
  },
  {
   "cell_type": "code",
   "execution_count": 28,
   "metadata": {},
   "outputs": [
    {
     "data": {
      "text/html": [
       "<div>\n",
       "<style scoped>\n",
       "    .dataframe tbody tr th:only-of-type {\n",
       "        vertical-align: middle;\n",
       "    }\n",
       "\n",
       "    .dataframe tbody tr th {\n",
       "        vertical-align: top;\n",
       "    }\n",
       "\n",
       "    .dataframe thead th {\n",
       "        text-align: right;\n",
       "    }\n",
       "</style>\n",
       "<table border=\"1\" class=\"dataframe\">\n",
       "  <thead>\n",
       "    <tr style=\"text-align: right;\">\n",
       "      <th></th>\n",
       "      <th>0</th>\n",
       "    </tr>\n",
       "  </thead>\n",
       "  <tbody>\n",
       "    <tr>\n",
       "      <th>visitor</th>\n",
       "      <td>240422</td>\n",
       "    </tr>\n",
       "    <tr>\n",
       "      <th>the</th>\n",
       "      <td>212603</td>\n",
       "    </tr>\n",
       "    <tr>\n",
       "      <th>a</th>\n",
       "      <td>104749</td>\n",
       "    </tr>\n",
       "    <tr>\n",
       "      <th>payment</th>\n",
       "      <td>96947</td>\n",
       "    </tr>\n",
       "    <tr>\n",
       "      <th>i</th>\n",
       "      <td>91611</td>\n",
       "    </tr>\n",
       "    <tr>\n",
       "      <th>...</th>\n",
       "      <td>...</td>\n",
       "    </tr>\n",
       "    <tr>\n",
       "      <th>doubl</th>\n",
       "      <td>76</td>\n",
       "    </tr>\n",
       "    <tr>\n",
       "      <th>session</th>\n",
       "      <td>76</td>\n",
       "    </tr>\n",
       "    <tr>\n",
       "      <th>embargo</th>\n",
       "      <td>76</td>\n",
       "    </tr>\n",
       "    <tr>\n",
       "      <th>maalesef</th>\n",
       "      <td>76</td>\n",
       "    </tr>\n",
       "    <tr>\n",
       "      <th>varia</th>\n",
       "      <td>75</td>\n",
       "    </tr>\n",
       "  </tbody>\n",
       "</table>\n",
       "<p>1500 rows × 1 columns</p>\n",
       "</div>"
      ],
      "text/plain": [
       "               0\n",
       "visitor   240422\n",
       "the       212603\n",
       "a         104749\n",
       "payment    96947\n",
       "i          91611\n",
       "...          ...\n",
       "doubl         76\n",
       "session       76\n",
       "embargo       76\n",
       "maalesef      76\n",
       "varia         75\n",
       "\n",
       "[1500 rows x 1 columns]"
      ]
     },
     "execution_count": 28,
     "metadata": {},
     "output_type": "execute_result"
    }
   ],
   "source": [
    "# мы хотим попробовать подход tf-idf над словами, для того, чтобы веса были равномерны - давайте выберем наиболее корректные слова\n",
    "top_words = 1500\n",
    "pd.DataFrame.from_dict(dict(c_text) , orient = 'index').sort_values(by = 0,ascending = False).head(top_words)"
   ]
  },
  {
   "cell_type": "code",
   "execution_count": 29,
   "metadata": {},
   "outputs": [],
   "source": [
    "#оставим для модели топ  слов\n",
    "final_words = pd.DataFrame.from_dict(dict(c_text) , orient = 'index').sort_values(by = 0 , ascending = False).head(top_words).index.values"
   ]
  },
  {
   "cell_type": "code",
   "execution_count": 30,
   "metadata": {},
   "outputs": [],
   "source": [
    "f = lambda x: ' '.join([item for item in x if item in final_words])\n",
    "text_analizator_df['stem_text'] = text_analizator_df['stem_arr'].apply(f)"
   ]
  },
  {
   "cell_type": "code",
   "execution_count": 31,
   "metadata": {},
   "outputs": [
    {
     "name": "stdout",
     "output_type": "stream",
     "text": [
      "old-  chat transcript: visitor: i am attempting to verify my card however the payment is not posting. all charges typically post immediately with my bank. sofia: hello sofia: please stand by online, as it may take some time to resolve the issue. ill provide you with an update in a few minutes. thank you for your patience. \n",
      "\n",
      "\n",
      "new -visitor i am verify card the payment all charges post bank sofia hello sofia please stand online take some time resolve the issue ill an update a minutes thank patience \n",
      "\n",
      "\n",
      "stem -visitor i am verifi card the payment all charg post bank sofia hello sofia pleas stand onlin take some time resolv the issu ill an updat a minut thank patienc \n"
     ]
    }
   ],
   "source": [
    "# в итоге выделив основные главне слова, которые нам могут быть интересны потенциально\n",
    "# получили new_sentence, можнте посмотреть как он отличается\n",
    "print(f'old- {text_analizator_df.loc[0][\"sentence\"]}' )\n",
    "print('\\n')\n",
    "print(f'new -{text_analizator_df.loc[0][\"new_sentence\"]}' )\n",
    "print('\\n')\n",
    "print(f'stem -{text_analizator_df.loc[0][\"stem_text\"]}' )"
   ]
  },
  {
   "cell_type": "markdown",
   "metadata": {},
   "source": [
    "# сделаем теперь векторное представление"
   ]
  },
  {
   "cell_type": "code",
   "execution_count": 32,
   "metadata": {},
   "outputs": [
    {
     "name": "stdout",
     "output_type": "stream",
     "text": [
      "<class 'numpy.ndarray'> (49499, 1474)\n"
     ]
    }
   ],
   "source": [
    "#ну тут без особой магии\n",
    "texts = df['message']\n",
    "texts = text_analizator_df['sentence']\n",
    "texts = text_analizator_df['stem_text']\n",
    "\n",
    "vec = TfidfVectorizer(max_features=top_words)\n",
    "tfidf_mat = vec.fit_transform(texts).toarray()\n",
    "print(type(tfidf_mat),tfidf_mat.shape)\n",
    "#на выход получаем матрицу заданной размерности"
   ]
  },
  {
   "cell_type": "markdown",
   "metadata": {},
   "source": [
    "# выравнивание классов"
   ]
  },
  {
   "cell_type": "code",
   "execution_count": 33,
   "metadata": {},
   "outputs": [
    {
     "data": {
      "text/html": [
       "<div>\n",
       "<style scoped>\n",
       "    .dataframe tbody tr th:only-of-type {\n",
       "        vertical-align: middle;\n",
       "    }\n",
       "\n",
       "    .dataframe tbody tr th {\n",
       "        vertical-align: top;\n",
       "    }\n",
       "\n",
       "    .dataframe thead th {\n",
       "        text-align: right;\n",
       "    }\n",
       "</style>\n",
       "<table border=\"1\" class=\"dataframe\">\n",
       "  <thead>\n",
       "    <tr style=\"text-align: right;\">\n",
       "      <th></th>\n",
       "      <th>0</th>\n",
       "      <th>1</th>\n",
       "      <th>2</th>\n",
       "      <th>3</th>\n",
       "      <th>4</th>\n",
       "      <th>5</th>\n",
       "      <th>6</th>\n",
       "      <th>7</th>\n",
       "      <th>8</th>\n",
       "      <th>9</th>\n",
       "      <th>...</th>\n",
       "      <th>1465</th>\n",
       "      <th>1466</th>\n",
       "      <th>1467</th>\n",
       "      <th>1468</th>\n",
       "      <th>1469</th>\n",
       "      <th>1470</th>\n",
       "      <th>1471</th>\n",
       "      <th>1472</th>\n",
       "      <th>1473</th>\n",
       "      <th>category</th>\n",
       "    </tr>\n",
       "  </thead>\n",
       "  <tbody>\n",
       "    <tr>\n",
       "      <th>0</th>\n",
       "      <td>0.0</td>\n",
       "      <td>0.0</td>\n",
       "      <td>0.0</td>\n",
       "      <td>0.0</td>\n",
       "      <td>0.0</td>\n",
       "      <td>0.0</td>\n",
       "      <td>0.000000</td>\n",
       "      <td>0.0</td>\n",
       "      <td>0.0</td>\n",
       "      <td>0.0</td>\n",
       "      <td>...</td>\n",
       "      <td>0.0</td>\n",
       "      <td>0.0</td>\n",
       "      <td>0.0</td>\n",
       "      <td>0.0</td>\n",
       "      <td>0.0</td>\n",
       "      <td>0.0</td>\n",
       "      <td>0.0</td>\n",
       "      <td>0.0</td>\n",
       "      <td>0.0</td>\n",
       "      <td>afs</td>\n",
       "    </tr>\n",
       "    <tr>\n",
       "      <th>1</th>\n",
       "      <td>0.0</td>\n",
       "      <td>0.0</td>\n",
       "      <td>0.0</td>\n",
       "      <td>0.0</td>\n",
       "      <td>0.0</td>\n",
       "      <td>0.0</td>\n",
       "      <td>0.173964</td>\n",
       "      <td>0.0</td>\n",
       "      <td>0.0</td>\n",
       "      <td>0.0</td>\n",
       "      <td>...</td>\n",
       "      <td>0.0</td>\n",
       "      <td>0.0</td>\n",
       "      <td>0.0</td>\n",
       "      <td>0.0</td>\n",
       "      <td>0.0</td>\n",
       "      <td>0.0</td>\n",
       "      <td>0.0</td>\n",
       "      <td>0.0</td>\n",
       "      <td>0.0</td>\n",
       "      <td>other</td>\n",
       "    </tr>\n",
       "    <tr>\n",
       "      <th>2</th>\n",
       "      <td>0.0</td>\n",
       "      <td>0.0</td>\n",
       "      <td>0.0</td>\n",
       "      <td>0.0</td>\n",
       "      <td>0.0</td>\n",
       "      <td>0.0</td>\n",
       "      <td>0.000000</td>\n",
       "      <td>0.0</td>\n",
       "      <td>0.0</td>\n",
       "      <td>0.0</td>\n",
       "      <td>...</td>\n",
       "      <td>0.0</td>\n",
       "      <td>0.0</td>\n",
       "      <td>0.0</td>\n",
       "      <td>0.0</td>\n",
       "      <td>0.0</td>\n",
       "      <td>0.0</td>\n",
       "      <td>0.0</td>\n",
       "      <td>0.0</td>\n",
       "      <td>0.0</td>\n",
       "      <td>afs</td>\n",
       "    </tr>\n",
       "    <tr>\n",
       "      <th>3</th>\n",
       "      <td>0.0</td>\n",
       "      <td>0.0</td>\n",
       "      <td>0.0</td>\n",
       "      <td>0.0</td>\n",
       "      <td>0.0</td>\n",
       "      <td>0.0</td>\n",
       "      <td>0.000000</td>\n",
       "      <td>0.0</td>\n",
       "      <td>0.0</td>\n",
       "      <td>0.0</td>\n",
       "      <td>...</td>\n",
       "      <td>0.0</td>\n",
       "      <td>0.0</td>\n",
       "      <td>0.0</td>\n",
       "      <td>0.0</td>\n",
       "      <td>0.0</td>\n",
       "      <td>0.0</td>\n",
       "      <td>0.0</td>\n",
       "      <td>0.0</td>\n",
       "      <td>0.0</td>\n",
       "      <td>afs</td>\n",
       "    </tr>\n",
       "    <tr>\n",
       "      <th>4</th>\n",
       "      <td>0.0</td>\n",
       "      <td>0.0</td>\n",
       "      <td>0.0</td>\n",
       "      <td>0.0</td>\n",
       "      <td>0.0</td>\n",
       "      <td>0.0</td>\n",
       "      <td>0.000000</td>\n",
       "      <td>0.0</td>\n",
       "      <td>0.0</td>\n",
       "      <td>0.0</td>\n",
       "      <td>...</td>\n",
       "      <td>0.0</td>\n",
       "      <td>0.0</td>\n",
       "      <td>0.0</td>\n",
       "      <td>0.0</td>\n",
       "      <td>0.0</td>\n",
       "      <td>0.0</td>\n",
       "      <td>0.0</td>\n",
       "      <td>0.0</td>\n",
       "      <td>0.0</td>\n",
       "      <td>afs</td>\n",
       "    </tr>\n",
       "  </tbody>\n",
       "</table>\n",
       "<p>5 rows × 1475 columns</p>\n",
       "</div>"
      ],
      "text/plain": [
       "     0    1    2    3    4    5         6    7    8    9  ...  1465  1466  \\\n",
       "0  0.0  0.0  0.0  0.0  0.0  0.0  0.000000  0.0  0.0  0.0  ...   0.0   0.0   \n",
       "1  0.0  0.0  0.0  0.0  0.0  0.0  0.173964  0.0  0.0  0.0  ...   0.0   0.0   \n",
       "2  0.0  0.0  0.0  0.0  0.0  0.0  0.000000  0.0  0.0  0.0  ...   0.0   0.0   \n",
       "3  0.0  0.0  0.0  0.0  0.0  0.0  0.000000  0.0  0.0  0.0  ...   0.0   0.0   \n",
       "4  0.0  0.0  0.0  0.0  0.0  0.0  0.000000  0.0  0.0  0.0  ...   0.0   0.0   \n",
       "\n",
       "   1467  1468  1469  1470  1471  1472  1473  category  \n",
       "0   0.0   0.0   0.0   0.0   0.0   0.0   0.0       afs  \n",
       "1   0.0   0.0   0.0   0.0   0.0   0.0   0.0     other  \n",
       "2   0.0   0.0   0.0   0.0   0.0   0.0   0.0       afs  \n",
       "3   0.0   0.0   0.0   0.0   0.0   0.0   0.0       afs  \n",
       "4   0.0   0.0   0.0   0.0   0.0   0.0   0.0       afs  \n",
       "\n",
       "[5 rows x 1475 columns]"
      ]
     },
     "execution_count": 33,
     "metadata": {},
     "output_type": "execute_result"
    }
   ],
   "source": [
    "train = pd.DataFrame(tfidf_mat)\n",
    "train['category'] =  df['category']\n",
    "\n",
    "target = 'category'\n",
    "train_columns = list(set(train.columns) - set([target]))\n",
    "\n",
    "train.head()"
   ]
  },
  {
   "cell_type": "code",
   "execution_count": 34,
   "metadata": {},
   "outputs": [],
   "source": [
    "train.dropna(inplace = True)"
   ]
  },
  {
   "cell_type": "code",
   "execution_count": 35,
   "metadata": {},
   "outputs": [],
   "source": [
    "#переводим в инты таргет\n",
    "labels, levels = pd.factorize(train[target])\n",
    "train['category_int'] = labels\n",
    "\n",
    "target = 'category_int'"
   ]
  },
  {
   "cell_type": "code",
   "execution_count": 36,
   "metadata": {},
   "outputs": [
    {
     "data": {
      "text/plain": [
       "array(['afs', 'other', 'ps'], dtype=object)"
      ]
     },
     "execution_count": 36,
     "metadata": {},
     "output_type": "execute_result"
    }
   ],
   "source": [
    "train[(train['category_int'] == -1)]\n",
    "train.category.unique()"
   ]
  },
  {
   "cell_type": "code",
   "execution_count": 37,
   "metadata": {},
   "outputs": [
    {
     "data": {
      "image/png": "[encoded data removed]",
      "text/plain": [
       "<Figure size 432x288 with 1 Axes>"
      ]
     },
     "metadata": {
      "needs_background": "light"
     },
     "output_type": "display_data"
    }
   ],
   "source": [
    "train[target].value_counts().plot(kind='bar', title='Count (target)');"
   ]
  },
  {
   "cell_type": "code",
   "execution_count": 38,
   "metadata": {},
   "outputs": [
    {
     "name": "stdout",
     "output_type": "stream",
     "text": [
      "rate target detect fight in game 1.0\n"
     ]
    },
    {
     "data": {
      "image/png": "[encoded data removed]",
      "text/plain": [
       "<Figure size 432x288 with 1 Axes>"
      ]
     },
     "metadata": {
      "needs_background": "light"
     },
     "output_type": "display_data"
    }
   ],
   "source": [
    "#сделаем оверсемплинг\n",
    "\n",
    "from imblearn.over_sampling import RandomOverSampler\n",
    "\n",
    "ros = RandomOverSampler()\n",
    "X_ros, y_ros = ros.fit_sample(train[train_columns], train[target])\n",
    "\n",
    "print(f'rate target detect fight in game {sum(y_ros) / X_ros.shape[0]}')\n",
    "\n",
    "y_ros.value_counts().plot(kind='bar', title='Count (target)');\n"
   ]
  },
  {
   "cell_type": "code",
   "execution_count": 39,
   "metadata": {},
   "outputs": [],
   "source": [
    "X_ros[target] = y_ros\n",
    "train = X_ros[:]"
   ]
  },
  {
   "cell_type": "markdown",
   "metadata": {},
   "source": [
    "# наконец переходим к модели"
   ]
  },
  {
   "cell_type": "code",
   "execution_count": 40,
   "metadata": {},
   "outputs": [],
   "source": [
    "#будем использовать LightGBM как основной фреймворк для построения модели\n",
    "# попробуем?\n",
    "import lightgbm as lgb\n",
    "\n",
    "from hyperopt import hp\n",
    "from hyperopt import fmin, tpe, hp, STATUS_OK, Trials"
   ]
  },
  {
   "cell_type": "code",
   "execution_count": 41,
   "metadata": {},
   "outputs": [
    {
     "name": "stdout",
     "output_type": "stream",
     "text": [
      "Train set: 82584 size , 1.0 target size\n",
      "Test set: 20646 size , 1.0 target size\n"
     ]
    },
    {
     "data": {
      "text/html": [
       "<div>\n",
       "<style scoped>\n",
       "    .dataframe tbody tr th:only-of-type {\n",
       "        vertical-align: middle;\n",
       "    }\n",
       "\n",
       "    .dataframe tbody tr th {\n",
       "        vertical-align: top;\n",
       "    }\n",
       "\n",
       "    .dataframe thead th {\n",
       "        text-align: right;\n",
       "    }\n",
       "</style>\n",
       "<table border=\"1\" class=\"dataframe\">\n",
       "  <thead>\n",
       "    <tr style=\"text-align: right;\">\n",
       "      <th></th>\n",
       "      <th>0</th>\n",
       "      <th>1</th>\n",
       "      <th>2</th>\n",
       "      <th>3</th>\n",
       "      <th>4</th>\n",
       "      <th>5</th>\n",
       "      <th>6</th>\n",
       "      <th>7</th>\n",
       "      <th>8</th>\n",
       "      <th>9</th>\n",
       "      <th>...</th>\n",
       "      <th>1465</th>\n",
       "      <th>1466</th>\n",
       "      <th>1467</th>\n",
       "      <th>1468</th>\n",
       "      <th>1469</th>\n",
       "      <th>1470</th>\n",
       "      <th>1471</th>\n",
       "      <th>1472</th>\n",
       "      <th>1473</th>\n",
       "      <th>category_int</th>\n",
       "    </tr>\n",
       "  </thead>\n",
       "  <tbody>\n",
       "    <tr>\n",
       "      <th>0</th>\n",
       "      <td>0.0</td>\n",
       "      <td>0.0</td>\n",
       "      <td>0.0</td>\n",
       "      <td>0.0</td>\n",
       "      <td>0.0</td>\n",
       "      <td>0.0</td>\n",
       "      <td>0.000000</td>\n",
       "      <td>0.0</td>\n",
       "      <td>0.0</td>\n",
       "      <td>0.0</td>\n",
       "      <td>...</td>\n",
       "      <td>0.0</td>\n",
       "      <td>0.0</td>\n",
       "      <td>0.0</td>\n",
       "      <td>0.0</td>\n",
       "      <td>0.0</td>\n",
       "      <td>0.0</td>\n",
       "      <td>0.0</td>\n",
       "      <td>0.0</td>\n",
       "      <td>0.0</td>\n",
       "      <td>0</td>\n",
       "    </tr>\n",
       "    <tr>\n",
       "      <th>1</th>\n",
       "      <td>0.0</td>\n",
       "      <td>0.0</td>\n",
       "      <td>0.0</td>\n",
       "      <td>0.0</td>\n",
       "      <td>0.0</td>\n",
       "      <td>0.0</td>\n",
       "      <td>0.173964</td>\n",
       "      <td>0.0</td>\n",
       "      <td>0.0</td>\n",
       "      <td>0.0</td>\n",
       "      <td>...</td>\n",
       "      <td>0.0</td>\n",
       "      <td>0.0</td>\n",
       "      <td>0.0</td>\n",
       "      <td>0.0</td>\n",
       "      <td>0.0</td>\n",
       "      <td>0.0</td>\n",
       "      <td>0.0</td>\n",
       "      <td>0.0</td>\n",
       "      <td>0.0</td>\n",
       "      <td>1</td>\n",
       "    </tr>\n",
       "    <tr>\n",
       "      <th>2</th>\n",
       "      <td>0.0</td>\n",
       "      <td>0.0</td>\n",
       "      <td>0.0</td>\n",
       "      <td>0.0</td>\n",
       "      <td>0.0</td>\n",
       "      <td>0.0</td>\n",
       "      <td>0.000000</td>\n",
       "      <td>0.0</td>\n",
       "      <td>0.0</td>\n",
       "      <td>0.0</td>\n",
       "      <td>...</td>\n",
       "      <td>0.0</td>\n",
       "      <td>0.0</td>\n",
       "      <td>0.0</td>\n",
       "      <td>0.0</td>\n",
       "      <td>0.0</td>\n",
       "      <td>0.0</td>\n",
       "      <td>0.0</td>\n",
       "      <td>0.0</td>\n",
       "      <td>0.0</td>\n",
       "      <td>0</td>\n",
       "    </tr>\n",
       "    <tr>\n",
       "      <th>3</th>\n",
       "      <td>0.0</td>\n",
       "      <td>0.0</td>\n",
       "      <td>0.0</td>\n",
       "      <td>0.0</td>\n",
       "      <td>0.0</td>\n",
       "      <td>0.0</td>\n",
       "      <td>0.000000</td>\n",
       "      <td>0.0</td>\n",
       "      <td>0.0</td>\n",
       "      <td>0.0</td>\n",
       "      <td>...</td>\n",
       "      <td>0.0</td>\n",
       "      <td>0.0</td>\n",
       "      <td>0.0</td>\n",
       "      <td>0.0</td>\n",
       "      <td>0.0</td>\n",
       "      <td>0.0</td>\n",
       "      <td>0.0</td>\n",
       "      <td>0.0</td>\n",
       "      <td>0.0</td>\n",
       "      <td>0</td>\n",
       "    </tr>\n",
       "    <tr>\n",
       "      <th>4</th>\n",
       "      <td>0.0</td>\n",
       "      <td>0.0</td>\n",
       "      <td>0.0</td>\n",
       "      <td>0.0</td>\n",
       "      <td>0.0</td>\n",
       "      <td>0.0</td>\n",
       "      <td>0.000000</td>\n",
       "      <td>0.0</td>\n",
       "      <td>0.0</td>\n",
       "      <td>0.0</td>\n",
       "      <td>...</td>\n",
       "      <td>0.0</td>\n",
       "      <td>0.0</td>\n",
       "      <td>0.0</td>\n",
       "      <td>0.0</td>\n",
       "      <td>0.0</td>\n",
       "      <td>0.0</td>\n",
       "      <td>0.0</td>\n",
       "      <td>0.0</td>\n",
       "      <td>0.0</td>\n",
       "      <td>0</td>\n",
       "    </tr>\n",
       "    <tr>\n",
       "      <th>...</th>\n",
       "      <td>...</td>\n",
       "      <td>...</td>\n",
       "      <td>...</td>\n",
       "      <td>...</td>\n",
       "      <td>...</td>\n",
       "      <td>...</td>\n",
       "      <td>...</td>\n",
       "      <td>...</td>\n",
       "      <td>...</td>\n",
       "      <td>...</td>\n",
       "      <td>...</td>\n",
       "      <td>...</td>\n",
       "      <td>...</td>\n",
       "      <td>...</td>\n",
       "      <td>...</td>\n",
       "      <td>...</td>\n",
       "      <td>...</td>\n",
       "      <td>...</td>\n",
       "      <td>...</td>\n",
       "      <td>...</td>\n",
       "      <td>...</td>\n",
       "    </tr>\n",
       "    <tr>\n",
       "      <th>103225</th>\n",
       "      <td>0.0</td>\n",
       "      <td>0.0</td>\n",
       "      <td>0.0</td>\n",
       "      <td>0.0</td>\n",
       "      <td>0.0</td>\n",
       "      <td>0.0</td>\n",
       "      <td>0.118539</td>\n",
       "      <td>0.0</td>\n",
       "      <td>0.0</td>\n",
       "      <td>0.0</td>\n",
       "      <td>...</td>\n",
       "      <td>0.0</td>\n",
       "      <td>0.0</td>\n",
       "      <td>0.0</td>\n",
       "      <td>0.0</td>\n",
       "      <td>0.0</td>\n",
       "      <td>0.0</td>\n",
       "      <td>0.0</td>\n",
       "      <td>0.0</td>\n",
       "      <td>0.0</td>\n",
       "      <td>2</td>\n",
       "    </tr>\n",
       "    <tr>\n",
       "      <th>103226</th>\n",
       "      <td>0.0</td>\n",
       "      <td>0.0</td>\n",
       "      <td>0.0</td>\n",
       "      <td>0.0</td>\n",
       "      <td>0.0</td>\n",
       "      <td>0.0</td>\n",
       "      <td>0.000000</td>\n",
       "      <td>0.0</td>\n",
       "      <td>0.0</td>\n",
       "      <td>0.0</td>\n",
       "      <td>...</td>\n",
       "      <td>0.0</td>\n",
       "      <td>0.0</td>\n",
       "      <td>0.0</td>\n",
       "      <td>0.0</td>\n",
       "      <td>0.0</td>\n",
       "      <td>0.0</td>\n",
       "      <td>0.0</td>\n",
       "      <td>0.0</td>\n",
       "      <td>0.0</td>\n",
       "      <td>2</td>\n",
       "    </tr>\n",
       "    <tr>\n",
       "      <th>103227</th>\n",
       "      <td>0.0</td>\n",
       "      <td>0.0</td>\n",
       "      <td>0.0</td>\n",
       "      <td>0.0</td>\n",
       "      <td>0.0</td>\n",
       "      <td>0.0</td>\n",
       "      <td>0.000000</td>\n",
       "      <td>0.0</td>\n",
       "      <td>0.0</td>\n",
       "      <td>0.0</td>\n",
       "      <td>...</td>\n",
       "      <td>0.0</td>\n",
       "      <td>0.0</td>\n",
       "      <td>0.0</td>\n",
       "      <td>0.0</td>\n",
       "      <td>0.0</td>\n",
       "      <td>0.0</td>\n",
       "      <td>0.0</td>\n",
       "      <td>0.0</td>\n",
       "      <td>0.0</td>\n",
       "      <td>2</td>\n",
       "    </tr>\n",
       "    <tr>\n",
       "      <th>103228</th>\n",
       "      <td>0.0</td>\n",
       "      <td>0.0</td>\n",
       "      <td>0.0</td>\n",
       "      <td>0.0</td>\n",
       "      <td>0.0</td>\n",
       "      <td>0.0</td>\n",
       "      <td>0.000000</td>\n",
       "      <td>0.0</td>\n",
       "      <td>0.0</td>\n",
       "      <td>0.0</td>\n",
       "      <td>...</td>\n",
       "      <td>0.0</td>\n",
       "      <td>0.0</td>\n",
       "      <td>0.0</td>\n",
       "      <td>0.0</td>\n",
       "      <td>0.0</td>\n",
       "      <td>0.0</td>\n",
       "      <td>0.0</td>\n",
       "      <td>0.0</td>\n",
       "      <td>0.0</td>\n",
       "      <td>2</td>\n",
       "    </tr>\n",
       "    <tr>\n",
       "      <th>103229</th>\n",
       "      <td>0.0</td>\n",
       "      <td>0.0</td>\n",
       "      <td>0.0</td>\n",
       "      <td>0.0</td>\n",
       "      <td>0.0</td>\n",
       "      <td>0.0</td>\n",
       "      <td>0.000000</td>\n",
       "      <td>0.0</td>\n",
       "      <td>0.0</td>\n",
       "      <td>0.0</td>\n",
       "      <td>...</td>\n",
       "      <td>0.0</td>\n",
       "      <td>0.0</td>\n",
       "      <td>0.0</td>\n",
       "      <td>0.0</td>\n",
       "      <td>0.0</td>\n",
       "      <td>0.0</td>\n",
       "      <td>0.0</td>\n",
       "      <td>0.0</td>\n",
       "      <td>0.0</td>\n",
       "      <td>2</td>\n",
       "    </tr>\n",
       "  </tbody>\n",
       "</table>\n",
       "<p>103230 rows × 1475 columns</p>\n",
       "</div>"
      ],
      "text/plain": [
       "          0    1    2    3    4    5         6    7    8    9  ...  1465  \\\n",
       "0       0.0  0.0  0.0  0.0  0.0  0.0  0.000000  0.0  0.0  0.0  ...   0.0   \n",
       "1       0.0  0.0  0.0  0.0  0.0  0.0  0.173964  0.0  0.0  0.0  ...   0.0   \n",
       "2       0.0  0.0  0.0  0.0  0.0  0.0  0.000000  0.0  0.0  0.0  ...   0.0   \n",
       "3       0.0  0.0  0.0  0.0  0.0  0.0  0.000000  0.0  0.0  0.0  ...   0.0   \n",
       "4       0.0  0.0  0.0  0.0  0.0  0.0  0.000000  0.0  0.0  0.0  ...   0.0   \n",
       "...     ...  ...  ...  ...  ...  ...       ...  ...  ...  ...  ...   ...   \n",
       "103225  0.0  0.0  0.0  0.0  0.0  0.0  0.118539  0.0  0.0  0.0  ...   0.0   \n",
       "103226  0.0  0.0  0.0  0.0  0.0  0.0  0.000000  0.0  0.0  0.0  ...   0.0   \n",
       "103227  0.0  0.0  0.0  0.0  0.0  0.0  0.000000  0.0  0.0  0.0  ...   0.0   \n",
       "103228  0.0  0.0  0.0  0.0  0.0  0.0  0.000000  0.0  0.0  0.0  ...   0.0   \n",
       "103229  0.0  0.0  0.0  0.0  0.0  0.0  0.000000  0.0  0.0  0.0  ...   0.0   \n",
       "\n",
       "        1466  1467  1468  1469  1470  1471  1472  1473  category_int  \n",
       "0        0.0   0.0   0.0   0.0   0.0   0.0   0.0   0.0             0  \n",
       "1        0.0   0.0   0.0   0.0   0.0   0.0   0.0   0.0             1  \n",
       "2        0.0   0.0   0.0   0.0   0.0   0.0   0.0   0.0             0  \n",
       "3        0.0   0.0   0.0   0.0   0.0   0.0   0.0   0.0             0  \n",
       "4        0.0   0.0   0.0   0.0   0.0   0.0   0.0   0.0             0  \n",
       "...      ...   ...   ...   ...   ...   ...   ...   ...           ...  \n",
       "103225   0.0   0.0   0.0   0.0   0.0   0.0   0.0   0.0             2  \n",
       "103226   0.0   0.0   0.0   0.0   0.0   0.0   0.0   0.0             2  \n",
       "103227   0.0   0.0   0.0   0.0   0.0   0.0   0.0   0.0             2  \n",
       "103228   0.0   0.0   0.0   0.0   0.0   0.0   0.0   0.0             2  \n",
       "103229   0.0   0.0   0.0   0.0   0.0   0.0   0.0   0.0             2  \n",
       "\n",
       "[103230 rows x 1475 columns]"
      ]
     },
     "execution_count": 41,
     "metadata": {},
     "output_type": "execute_result"
    }
   ],
   "source": [
    "#отложим выборку для финальной оценки\n",
    "\n",
    "from sklearn.model_selection import train_test_split\n",
    "x_train, x_test, y_train, y_test = train_test_split(train[train_columns]\n",
    "                                                    , train[target] \n",
    "                                                    , test_size=0.2\n",
    "                                                    , random_state=22031990 \n",
    "                                                    , stratify = train[target] \n",
    "                                                   )\n",
    "\n",
    "print(f'Train set: {x_train.shape[0]} size , {sum(y_train) / x_train.shape[0]} target size')\n",
    "print(f'Test set: {x_test.shape[0]} size , {sum(y_test) / x_test.shape[0]} target size')\n",
    "train"
   ]
  },
  {
   "cell_type": "code",
   "execution_count": 42,
   "metadata": {},
   "outputs": [
    {
     "name": "stderr",
     "output_type": "stream",
     "text": [
      "C:\\Users\\HomePC\\Anaconda3\\lib\\site-packages\\sklearn\\model_selection\\_split.py:297: FutureWarning: Setting a random_state has no effect since shuffle is False. This will raise an error in 0.24. You should leave random_state to its default (None), or set shuffle=True.\n",
      "  FutureWarning\n"
     ]
    }
   ],
   "source": [
    "#а давайте попробуем бустинг\n",
    "from sklearn.model_selection import RepeatedStratifiedKFold , StratifiedKFold\n",
    "skf = RepeatedStratifiedKFold(n_splits=3, n_repeats=2, random_state=22031990)\n",
    "skf = StratifiedKFold(n_splits=3, random_state=22031990, shuffle=False)"
   ]
  },
  {
   "cell_type": "code",
   "execution_count": 43,
   "metadata": {},
   "outputs": [
    {
     "name": "stdout",
     "output_type": "stream",
     "text": [
      "[10]\tcv_agg's multi_logloss: 1.09742 + 7.33473e-06\n",
      "[20]\tcv_agg's multi_logloss: 1.09628 + 3.90357e-05\n",
      "[30]\tcv_agg's multi_logloss: 1.09517 + 3.6487e-05\n",
      "[40]\tcv_agg's multi_logloss: 1.09409 + 3.34272e-05\n",
      "[50]\tcv_agg's multi_logloss: 1.09302 + 3.05921e-05\n",
      "[60]\tcv_agg's multi_logloss: 1.09197 + 3.26058e-05\n",
      "[70]\tcv_agg's multi_logloss: 1.09093 + 3.73452e-05\n",
      "[80]\tcv_agg's multi_logloss: 1.08988 + 4.3888e-05\n",
      "[90]\tcv_agg's multi_logloss: 1.08891 + 6.24546e-05\n",
      "[100]\tcv_agg's multi_logloss: 1.08794 + 7.16106e-05\n",
      "[110]\tcv_agg's multi_logloss: 1.08699 + 8.97166e-05\n",
      "[120]\tcv_agg's multi_logloss: 1.08605 + 9.13275e-05\n",
      "[130]\tcv_agg's multi_logloss: 1.08512 + 7.20325e-05\n",
      "[140]\tcv_agg's multi_logloss: 1.08421 + 4.64853e-05\n",
      "[150]\tcv_agg's multi_logloss: 1.08329 + 6.6814e-05\n",
      "[160]\tcv_agg's multi_logloss: 1.08239 + 6.00668e-05\n",
      "[170]\tcv_agg's multi_logloss: 1.0815 + 5.89223e-05\n",
      "[180]\tcv_agg's multi_logloss: 1.08065 + 7.1573e-05\n",
      "[190]\tcv_agg's multi_logloss: 1.07979 + 6.34064e-05\n",
      "[200]\tcv_agg's multi_logloss: 1.07892 + 5.3454e-05\n",
      "[210]\tcv_agg's multi_logloss: 1.07807 + 4.64688e-05\n",
      "[220]\tcv_agg's multi_logloss: 1.07723 + 5.16065e-05\n",
      "[230]\tcv_agg's multi_logloss: 1.07642 + 6.53868e-05\n",
      "[240]\tcv_agg's multi_logloss: 1.07561 + 6.33498e-05\n",
      "[250]\tcv_agg's multi_logloss: 1.07479 + 5.70995e-05\n",
      "[260]\tcv_agg's multi_logloss: 1.07399 + 5.08405e-05\n",
      "[270]\tcv_agg's multi_logloss: 1.07317 + 7.13332e-05\n",
      "[280]\tcv_agg's multi_logloss: 1.07238 + 7.79961e-05\n",
      "[290]\tcv_agg's multi_logloss: 1.07161 + 8.79978e-05\n",
      "[300]\tcv_agg's multi_logloss: 1.07084 + 9.69922e-05\n",
      "[310]\tcv_agg's multi_logloss: 1.07004 + 0.000111478\n",
      "[320]\tcv_agg's multi_logloss: 1.06927 + 0.000123187\n",
      "[330]\tcv_agg's multi_logloss: 1.0685 + 0.000120947\n",
      "[340]\tcv_agg's multi_logloss: 1.06775 + 0.000108086\n",
      "[350]\tcv_agg's multi_logloss: 1.06699 + 0.000119924\n",
      "[360]\tcv_agg's multi_logloss: 1.06625 + 0.00011189\n",
      "[370]\tcv_agg's multi_logloss: 1.06549 + 0.000110173\n",
      "[380]\tcv_agg's multi_logloss: 1.06472 + 0.000119615\n",
      "[390]\tcv_agg's multi_logloss: 1.06398 + 0.000134811\n",
      "[400]\tcv_agg's multi_logloss: 1.06326 + 0.000146101\n",
      "[410]\tcv_agg's multi_logloss: 1.06252 + 0.000151561\n",
      "[420]\tcv_agg's multi_logloss: 1.06179 + 0.000157475\n",
      "[430]\tcv_agg's multi_logloss: 1.06104 + 0.000169335\n",
      "[440]\tcv_agg's multi_logloss: 1.06034 + 0.000167731\n",
      "[450]\tcv_agg's multi_logloss: 1.05963 + 0.000186072\n",
      "[460]\tcv_agg's multi_logloss: 1.05888 + 0.000178067\n",
      "[470]\tcv_agg's multi_logloss: 1.05817 + 0.0001883\n",
      "[480]\tcv_agg's multi_logloss: 1.05747 + 0.000201199\n",
      "[490]\tcv_agg's multi_logloss: 1.05676 + 0.000212475\n",
      "[500]\tcv_agg's multi_logloss: 1.05606 + 0.0002312\n"
     ]
    }
   ],
   "source": [
    "lgb_data_train = lgb.Dataset(x_train[train_columns], \n",
    "                             y_train, \n",
    "                             free_raw_data=False\n",
    "                            )\n",
    "\n",
    "#инициируем целевые параметры для первого приближения модели\n",
    "#можете детальнее посмотреть тут https://lightgbm.readthedocs.io/en/latest/Parameters.html\n",
    "params = {\n",
    "    'objective':'multiclass', \n",
    "    'metric': 'multi_logloss',\n",
    "    \"num_class\" : 3,\n",
    "    'learning_rate': 0.01, \n",
    "    'random_state':202008,\n",
    "    'subsample':0.33,\n",
    "    'colsample_bytree':0.33,\n",
    "    'reg_lambda':4\n",
    "}\n",
    "\n",
    "\n",
    "\n",
    "\n",
    "h = lgb.cv(params, \n",
    "           lgb_data_train, \n",
    "           num_boost_round=500,\n",
    "           early_stopping_rounds=50, \n",
    "           verbose_eval=10, \n",
    "           folds=skf.split(x_train[train_columns], y_train)\n",
    "          )\n",
    "\n"
   ]
  },
  {
   "cell_type": "code",
   "execution_count": 63,
   "metadata": {},
   "outputs": [],
   "source": [
    "#можно еще поиграться с гипероптом? :)\n",
    "\n",
    "\n",
    "\n",
    "optimal_boost = 200\n",
    "params = {\n",
    "    'objective':'multiclass', \n",
    "    'metric': 'multi_logloss',\n",
    "    \"num_class\" : 3,\n",
    "    'learning_rate': 0.01, \n",
    "    'random_state':202008,\n",
    "    'subsample':0.33,\n",
    "    'colsample_bytree':0.33,\n",
    "    'reg_lambda':4,\n",
    "}\n",
    "\n",
    "lgb_data_train = lgb.Dataset(x_train[train_columns], \n",
    "                             y_train, \n",
    "                             free_raw_data=False\n",
    "                            )\n",
    "\n",
    "\n",
    "model = lgb.train(params, lgb_data_train, num_boost_round=optimal_boost  )"
   ]
  },
  {
   "cell_type": "code",
   "execution_count": 64,
   "metadata": {},
   "outputs": [],
   "source": [
    "predicts_prob = model.predict(x_test)\n",
    "prediction_class = []\n",
    "\n",
    "for x in predicts_prob:\n",
    "    prediction_class.append(np.argmax(x))    "
   ]
  },
  {
   "cell_type": "code",
   "execution_count": 65,
   "metadata": {},
   "outputs": [
    {
     "data": {
      "image/png": "[encoded data removed]",
      "text/plain": [
       "<Figure size 1332x756 with 1 Axes>"
      ]
     },
     "metadata": {
      "needs_background": "light"
     },
     "output_type": "display_data"
    }
   ],
   "source": [
    "import matplotlib.pyplot as plt\n",
    "import matplotlib\n",
    "\n",
    "from mlxtend.evaluate import confusion_matrix\n",
    "from mlxtend.plotting import plot_confusion_matrix\n",
    "\n",
    "\n",
    "#one\n",
    "predict_i = model.predict(np.array([x_test[0]]))\n",
    "#many\n",
    "predict_i = model.predict(x_test[0:])\n",
    "\n",
    "\n",
    "y_pred = predict_i.argmax(axis=-1)\n",
    "#y_target = target.argmax(axis=-1)\n",
    "\n",
    "'''\n",
    "cm = confusion_matrix(y_target=y_,\n",
    "                      y_predicted=y_pred)\n",
    "\n",
    "'''\n",
    "cm = confusion_matrix(y_test,\n",
    "                      y_pred)\n",
    "\n",
    "fig, ax = plot_confusion_matrix(conf_mat=cm)\n",
    "\n",
    "ig = matplotlib.pyplot.gcf()\n",
    "fig.set_size_inches(18.5, 10.5)\n",
    "#fig.savefig('test2png.png', dpi=100)\n",
    "plt.show()"
   ]
  },
  {
   "cell_type": "code",
   "execution_count": null,
   "metadata": {},
   "outputs": [],
   "source": []
  },
  {
   "cell_type": "markdown",
   "metadata": {},
   "source": [
    "# Попытки улучшить модель"
   ]
  },
  {
   "cell_type": "code",
   "execution_count": 177,
   "metadata": {},
   "outputs": [],
   "source": [
    "optimal_boost = 1000 # увеличил - точность повысилась\n",
    "params = {\n",
    "    'objective':'multiclass', \n",
    "    'metric': 'multi_logloss',\n",
    "    \"num_class\" : 3,\n",
    "    'learning_rate': 0.1, #увеличил до 0.1 - точность повысилась\n",
    "    'random_state':202008,\n",
    "    'subsample':0.33,\n",
    "    'colsample_bytree':0.5, #увеличил, незначительно увеличилась точность\n",
    "    'reg_lambda':3, #уменьшил - незначительно увеличилась точность\n",
    "    'num_leaves': 60,\n",
    "    'max_depth':20\n",
    "}\n",
    "\n",
    "lgb_data_train = lgb.Dataset(x_train[train_columns], \n",
    "                             y_train, \n",
    "                             free_raw_data=False\n",
    "                            )\n",
    "\n",
    "\n",
    "model = lgb.train(params, lgb_data_train, num_boost_round=optimal_boost  )"
   ]
  },
  {
   "cell_type": "code",
   "execution_count": 178,
   "metadata": {},
   "outputs": [
    {
     "data": {
      "image/png": "[encoded data removed]",
      "text/plain": [
       "<Figure size 1332x756 with 1 Axes>"
      ]
     },
     "metadata": {
      "needs_background": "light"
     },
     "output_type": "display_data"
    }
   ],
   "source": [
    "#one\n",
    "predict_i = model.predict(np.array([x_test[0]]))\n",
    "#many\n",
    "predict_i = model.predict(x_test[0:])\n",
    "\n",
    "\n",
    "y_pred = predict_i.argmax(axis=-1)\n",
    "#y_target = target.argmax(axis=-1)\n",
    "\n",
    "'''\n",
    "cm = confusion_matrix(y_target=y_,\n",
    "                      y_predicted=y_pred)\n",
    "\n",
    "'''\n",
    "cm = confusion_matrix(y_test,\n",
    "                      y_pred)\n",
    "\n",
    "fig, ax = plot_confusion_matrix(conf_mat=cm)\n",
    "\n",
    "ig = matplotlib.pyplot.gcf()\n",
    "fig.set_size_inches(18.5, 10.5)\n",
    "#fig.savefig('test2png.png', dpi=100)\n",
    "plt.show()"
   ]
  },
  {
   "cell_type": "code",
   "execution_count": 179,
   "metadata": {},
   "outputs": [
    {
     "name": "stdout",
     "output_type": "stream",
     "text": [
      "              precision    recall  f1-score   support\n",
      "\n",
      "           0       0.84      0.70      0.76      6882\n",
      "           1       0.82      0.86      0.84      6882\n",
      "           2       0.82      0.92      0.87      6882\n",
      "\n",
      "    accuracy                           0.83     20646\n",
      "   macro avg       0.83      0.83      0.82     20646\n",
      "weighted avg       0.83      0.83      0.82     20646\n",
      "\n"
     ]
    }
   ],
   "source": [
    "print(classification_report(y_test,y_pred))"
   ]
  },
  {
   "cell_type": "code",
   "execution_count": 180,
   "metadata": {},
   "outputs": [
    {
     "data": {
      "text/plain": [
       "<lightgbm.basic.Booster at 0x19ee75a71d0>"
      ]
     },
     "execution_count": 180,
     "metadata": {},
     "output_type": "execute_result"
    }
   ],
   "source": [
    "model.save_model('my_lgbm_model.txt')"
   ]
  },
  {
   "cell_type": "code",
   "execution_count": 183,
   "metadata": {},
   "outputs": [],
   "source": [
    "model = lgb.Booster(model_file='my_lgbm_model.txt')\n",
    "\n"
   ]
  },
  {
   "cell_type": "code",
   "execution_count": 190,
   "metadata": {},
   "outputs": [
    {
     "data": {
      "text/plain": [
       "array([[0.33550961, 0.49785762, 0.16663277]])"
      ]
     },
     "execution_count": 190,
     "metadata": {},
     "output_type": "execute_result"
    }
   ],
   "source": [
    "pred=model.predict(vec.transform([message]).toarray())\n",
    "pred"
   ]
  },
  {
   "cell_type": "code",
   "execution_count": null,
   "metadata": {},
   "outputs": [],
   "source": []
  }
 ],
 "metadata": {
  "kernelspec": {
   "display_name": "Python 3",
   "language": "python",
   "name": "python3"
  },
  "language_info": {
   "codemirror_mode": {
    "name": "ipython",
    "version": 3
   },
   "file_extension": ".py",
   "mimetype": "text/x-python",
   "name": "python",
   "nbconvert_exporter": "python",
   "pygments_lexer": "ipython3",
   "version": "3.7.3"
  },
  "toc": {
   "base_numbering": 1,
   "nav_menu": {},
   "number_sections": true,
   "sideBar": true,
   "skip_h1_title": false,
   "title_cell": "Table of Contents",
   "title_sidebar": "Contents",
   "toc_cell": false,
   "toc_position": {},
   "toc_section_display": true,
   "toc_window_display": false
  }
 },
 "nbformat": 4,
 "nbformat_minor": 2
}
